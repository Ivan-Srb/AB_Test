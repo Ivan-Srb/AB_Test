{
 "cells": [
  {
   "cell_type": "code",
   "execution_count": null,
   "id": "95acbaaa-543f-46f6-bc91-c9ceebe909a3",
   "metadata": {},
   "outputs": [],
   "source": [
    "#In this project we run AB Testing on a website data over an implementation of new features\n",
    "#which aim to increase the number of page click in the website\n",
    "\n",
    "#We have got the user's IP Address and user's actions in different versions of the website\n",
    "#Also we have two servers:1st one with an old version of website (control group) \n",
    "#and 2st one with the implemented new features (test group)\n",
    "\n",
    "#The objective is to determine whether user's experiense in these two versions of the website is different and if so, \n",
    "#how statically significant this difference "
   ]
  },
  {
   "cell_type": "code",
   "execution_count": 1,
   "id": "8dab526b-0d7b-4cc2-a6b5-147102505842",
   "metadata": {},
   "outputs": [],
   "source": [
    "import numpy as np \n",
    "import pandas as pd\n",
    "import matplotlib as plt\n",
    "import seaborn as sns\n",
    "from scipy.stats import shapiro,mannwhitneyu"
   ]
  },
  {
   "cell_type": "code",
   "execution_count": 11,
   "id": "c96b7dd1-7b6a-4538-9821-4ffb37d908e9",
   "metadata": {},
   "outputs": [
    {
     "data": {
      "text/html": [
       "<div>\n",
       "<style scoped>\n",
       "    .dataframe tbody tr th:only-of-type {\n",
       "        vertical-align: middle;\n",
       "    }\n",
       "\n",
       "    .dataframe tbody tr th {\n",
       "        vertical-align: top;\n",
       "    }\n",
       "\n",
       "    .dataframe thead th {\n",
       "        text-align: right;\n",
       "    }\n",
       "</style>\n",
       "<table border=\"1\" class=\"dataframe\">\n",
       "  <thead>\n",
       "    <tr style=\"text-align: right;\">\n",
       "      <th></th>\n",
       "      <th>RecordID</th>\n",
       "      <th>IP Address</th>\n",
       "      <th>LoggedInFlag</th>\n",
       "      <th>ServerID</th>\n",
       "      <th>VisitPageFlag</th>\n",
       "    </tr>\n",
       "  </thead>\n",
       "  <tbody>\n",
       "    <tr>\n",
       "      <th>0</th>\n",
       "      <td>1</td>\n",
       "      <td>39.13.114.2</td>\n",
       "      <td>1</td>\n",
       "      <td>2</td>\n",
       "      <td>0</td>\n",
       "    </tr>\n",
       "    <tr>\n",
       "      <th>1</th>\n",
       "      <td>2</td>\n",
       "      <td>13.3.25.8</td>\n",
       "      <td>1</td>\n",
       "      <td>1</td>\n",
       "      <td>0</td>\n",
       "    </tr>\n",
       "    <tr>\n",
       "      <th>2</th>\n",
       "      <td>3</td>\n",
       "      <td>247.8.211.8</td>\n",
       "      <td>1</td>\n",
       "      <td>1</td>\n",
       "      <td>0</td>\n",
       "    </tr>\n",
       "    <tr>\n",
       "      <th>3</th>\n",
       "      <td>4</td>\n",
       "      <td>60.10.192.7</td>\n",
       "      <td>0</td>\n",
       "      <td>2</td>\n",
       "      <td>0</td>\n",
       "    </tr>\n",
       "    <tr>\n",
       "      <th>4</th>\n",
       "      <td>5</td>\n",
       "      <td>195.12.126.2</td>\n",
       "      <td>1</td>\n",
       "      <td>1</td>\n",
       "      <td>0</td>\n",
       "    </tr>\n",
       "  </tbody>\n",
       "</table>\n",
       "</div>"
      ],
      "text/plain": [
       "   RecordID    IP Address  LoggedInFlag  ServerID  VisitPageFlag\n",
       "0         1   39.13.114.2             1         2              0\n",
       "1         2     13.3.25.8             1         1              0\n",
       "2         3   247.8.211.8             1         1              0\n",
       "3         4   60.10.192.7             0         2              0\n",
       "4         5  195.12.126.2             1         1              0"
      ]
     },
     "execution_count": 11,
     "metadata": {},
     "output_type": "execute_result"
    }
   ],
   "source": [
    "df = pd.read_csv(\"abtest_data.csv\")\n",
    "df.head()"
   ]
  },
  {
   "cell_type": "code",
   "execution_count": 12,
   "id": "6b264be6-2f76-49ed-875e-0efebde9818d",
   "metadata": {},
   "outputs": [
    {
     "data": {
      "text/plain": [
       "(123054, 5)"
      ]
     },
     "execution_count": 12,
     "metadata": {},
     "output_type": "execute_result"
    }
   ],
   "source": [
    "df.shape"
   ]
  },
  {
   "cell_type": "code",
   "execution_count": 13,
   "id": "20172713-116c-466b-a5d4-2def12d03ee9",
   "metadata": {},
   "outputs": [
    {
     "data": {
      "text/plain": [
       "66334"
      ]
     },
     "execution_count": 13,
     "metadata": {},
     "output_type": "execute_result"
    }
   ],
   "source": [
    "#Number of unique values in IP Address\n",
    "df['IP Address'].nunique()"
   ]
  },
  {
   "cell_type": "code",
   "execution_count": 14,
   "id": "c418de92-3084-4dbf-aff4-7fecaa6bd79f",
   "metadata": {},
   "outputs": [],
   "source": [
    "#As the values in IP Address are duplicated (one user could enter the website several times)\n",
    "#I will group the data by IP Address and put 1 in the visit value for users with multiple visits"
   ]
  },
  {
   "cell_type": "code",
   "execution_count": 15,
   "id": "ad00c2f8-c422-42d4-8faa-357a39e181d8",
   "metadata": {},
   "outputs": [
    {
     "data": {
      "text/html": [
       "<div>\n",
       "<style scoped>\n",
       "    .dataframe tbody tr th:only-of-type {\n",
       "        vertical-align: middle;\n",
       "    }\n",
       "\n",
       "    .dataframe tbody tr th {\n",
       "        vertical-align: top;\n",
       "    }\n",
       "\n",
       "    .dataframe thead th {\n",
       "        text-align: right;\n",
       "    }\n",
       "</style>\n",
       "<table border=\"1\" class=\"dataframe\">\n",
       "  <thead>\n",
       "    <tr style=\"text-align: right;\">\n",
       "      <th></th>\n",
       "      <th>IP Address</th>\n",
       "      <th>LoggedInFlag</th>\n",
       "      <th>ServerID</th>\n",
       "      <th>VisitPageSum</th>\n",
       "    </tr>\n",
       "  </thead>\n",
       "  <tbody>\n",
       "    <tr>\n",
       "      <th>0</th>\n",
       "      <td>0.0.108.2</td>\n",
       "      <td>0</td>\n",
       "      <td>1</td>\n",
       "      <td>0</td>\n",
       "    </tr>\n",
       "    <tr>\n",
       "      <th>1</th>\n",
       "      <td>0.0.109.6</td>\n",
       "      <td>1</td>\n",
       "      <td>1</td>\n",
       "      <td>0</td>\n",
       "    </tr>\n",
       "    <tr>\n",
       "      <th>2</th>\n",
       "      <td>0.0.160.9</td>\n",
       "      <td>1</td>\n",
       "      <td>2</td>\n",
       "      <td>0</td>\n",
       "    </tr>\n",
       "    <tr>\n",
       "      <th>3</th>\n",
       "      <td>0.0.163.1</td>\n",
       "      <td>0</td>\n",
       "      <td>2</td>\n",
       "      <td>0</td>\n",
       "    </tr>\n",
       "    <tr>\n",
       "      <th>4</th>\n",
       "      <td>0.0.169.1</td>\n",
       "      <td>1</td>\n",
       "      <td>1</td>\n",
       "      <td>0</td>\n",
       "    </tr>\n",
       "  </tbody>\n",
       "</table>\n",
       "</div>"
      ],
      "text/plain": [
       "  IP Address  LoggedInFlag  ServerID  VisitPageSum\n",
       "0  0.0.108.2             0         1             0\n",
       "1  0.0.109.6             1         1             0\n",
       "2  0.0.160.9             1         2             0\n",
       "3  0.0.163.1             0         2             0\n",
       "4  0.0.169.1             1         1             0"
      ]
     },
     "execution_count": 15,
     "metadata": {},
     "output_type": "execute_result"
    }
   ],
   "source": [
    "df = df.groupby([\"IP Address\", \"LoggedInFlag\", \"ServerID\"])[\"VisitPageFlag\"].sum()\n",
    "df = df.reset_index(name=\"VisitPageSum\")\n",
    "df.head()"
   ]
  },
  {
   "cell_type": "code",
   "execution_count": 16,
   "id": "46d0a658-3388-4465-bb10-f86704090554",
   "metadata": {},
   "outputs": [
    {
     "data": {
      "text/plain": [
       "0    59589\n",
       "1     6368\n",
       "2      517\n",
       "3       12\n",
       "4        1\n",
       "Name: VisitPageSum, dtype: int64"
      ]
     },
     "execution_count": 16,
     "metadata": {},
     "output_type": "execute_result"
    }
   ],
   "source": [
    "df[\"VisitPageSum\"].value_counts()"
   ]
  },
  {
   "cell_type": "code",
   "execution_count": 17,
   "id": "c8c8b8f8-e9a5-4a90-bbd6-efb5d3607750",
   "metadata": {},
   "outputs": [
    {
     "data": {
      "text/html": [
       "<div>\n",
       "<style scoped>\n",
       "    .dataframe tbody tr th:only-of-type {\n",
       "        vertical-align: middle;\n",
       "    }\n",
       "\n",
       "    .dataframe tbody tr th {\n",
       "        vertical-align: top;\n",
       "    }\n",
       "\n",
       "    .dataframe thead th {\n",
       "        text-align: right;\n",
       "    }\n",
       "</style>\n",
       "<table border=\"1\" class=\"dataframe\">\n",
       "  <thead>\n",
       "    <tr style=\"text-align: right;\">\n",
       "      <th></th>\n",
       "      <th>IP Address</th>\n",
       "      <th>LoggedInFlag</th>\n",
       "      <th>ServerID</th>\n",
       "      <th>VisitPageSum</th>\n",
       "      <th>VisitPage</th>\n",
       "    </tr>\n",
       "  </thead>\n",
       "  <tbody>\n",
       "    <tr>\n",
       "      <th>0</th>\n",
       "      <td>0.0.108.2</td>\n",
       "      <td>0</td>\n",
       "      <td>1</td>\n",
       "      <td>0</td>\n",
       "      <td>0</td>\n",
       "    </tr>\n",
       "    <tr>\n",
       "      <th>1</th>\n",
       "      <td>0.0.109.6</td>\n",
       "      <td>1</td>\n",
       "      <td>1</td>\n",
       "      <td>0</td>\n",
       "      <td>0</td>\n",
       "    </tr>\n",
       "    <tr>\n",
       "      <th>2</th>\n",
       "      <td>0.0.160.9</td>\n",
       "      <td>1</td>\n",
       "      <td>2</td>\n",
       "      <td>0</td>\n",
       "      <td>0</td>\n",
       "    </tr>\n",
       "    <tr>\n",
       "      <th>3</th>\n",
       "      <td>0.0.163.1</td>\n",
       "      <td>0</td>\n",
       "      <td>2</td>\n",
       "      <td>0</td>\n",
       "      <td>0</td>\n",
       "    </tr>\n",
       "    <tr>\n",
       "      <th>4</th>\n",
       "      <td>0.0.169.1</td>\n",
       "      <td>1</td>\n",
       "      <td>1</td>\n",
       "      <td>0</td>\n",
       "      <td>0</td>\n",
       "    </tr>\n",
       "  </tbody>\n",
       "</table>\n",
       "</div>"
      ],
      "text/plain": [
       "  IP Address  LoggedInFlag  ServerID  VisitPageSum  VisitPage\n",
       "0  0.0.108.2             0         1             0          0\n",
       "1  0.0.109.6             1         1             0          0\n",
       "2  0.0.160.9             1         2             0          0\n",
       "3  0.0.163.1             0         2             0          0\n",
       "4  0.0.169.1             1         1             0          0"
      ]
     },
     "execution_count": 17,
     "metadata": {},
     "output_type": "execute_result"
    }
   ],
   "source": [
    "df[\"VisitPage\"] = df[\"VisitPageSum\"].apply(lambda x: 1 if x != 0 else 0)\n",
    "df.head()"
   ]
  },
  {
   "cell_type": "code",
   "execution_count": 18,
   "id": "84bd76b8-be0e-427b-8824-1a2ca8010d53",
   "metadata": {},
   "outputs": [
    {
     "data": {
      "text/plain": [
       "0    59589\n",
       "1     6898\n",
       "Name: VisitPage, dtype: int64"
      ]
     },
     "execution_count": 18,
     "metadata": {},
     "output_type": "execute_result"
    }
   ],
   "source": [
    "df[\"VisitPage\"].value_counts()"
   ]
  },
  {
   "cell_type": "code",
   "execution_count": 19,
   "id": "2c9d7575-5e02-4404-8797-2acfb217fb6f",
   "metadata": {},
   "outputs": [
    {
     "data": {
      "text/html": [
       "<div>\n",
       "<style scoped>\n",
       "    .dataframe tbody tr th:only-of-type {\n",
       "        vertical-align: middle;\n",
       "    }\n",
       "\n",
       "    .dataframe tbody tr th {\n",
       "        vertical-align: top;\n",
       "    }\n",
       "\n",
       "    .dataframe thead th {\n",
       "        text-align: right;\n",
       "    }\n",
       "</style>\n",
       "<table border=\"1\" class=\"dataframe\">\n",
       "  <thead>\n",
       "    <tr style=\"text-align: right;\">\n",
       "      <th></th>\n",
       "      <th>IP Address</th>\n",
       "      <th>LoggedInFlag</th>\n",
       "      <th>VisitPage</th>\n",
       "      <th>Group</th>\n",
       "    </tr>\n",
       "  </thead>\n",
       "  <tbody>\n",
       "    <tr>\n",
       "      <th>0</th>\n",
       "      <td>0.0.108.2</td>\n",
       "      <td>0</td>\n",
       "      <td>0</td>\n",
       "      <td>Test</td>\n",
       "    </tr>\n",
       "    <tr>\n",
       "      <th>1</th>\n",
       "      <td>0.0.109.6</td>\n",
       "      <td>1</td>\n",
       "      <td>0</td>\n",
       "      <td>Test</td>\n",
       "    </tr>\n",
       "    <tr>\n",
       "      <th>2</th>\n",
       "      <td>0.0.160.9</td>\n",
       "      <td>1</td>\n",
       "      <td>0</td>\n",
       "      <td>Control</td>\n",
       "    </tr>\n",
       "    <tr>\n",
       "      <th>3</th>\n",
       "      <td>0.0.163.1</td>\n",
       "      <td>0</td>\n",
       "      <td>0</td>\n",
       "      <td>Control</td>\n",
       "    </tr>\n",
       "    <tr>\n",
       "      <th>4</th>\n",
       "      <td>0.0.169.1</td>\n",
       "      <td>1</td>\n",
       "      <td>0</td>\n",
       "      <td>Test</td>\n",
       "    </tr>\n",
       "  </tbody>\n",
       "</table>\n",
       "</div>"
      ],
      "text/plain": [
       "  IP Address  LoggedInFlag  VisitPage    Group\n",
       "0  0.0.108.2             0          0     Test\n",
       "1  0.0.109.6             1          0     Test\n",
       "2  0.0.160.9             1          0  Control\n",
       "3  0.0.163.1             0          0  Control\n",
       "4  0.0.169.1             1          0     Test"
      ]
     },
     "execution_count": 19,
     "metadata": {},
     "output_type": "execute_result"
    }
   ],
   "source": [
    "#Spliting the dataset into control and test groups \n",
    "\n",
    "df['Group'] = df['ServerID'].map({1:'Test', 2:'Control'})\n",
    "df.drop(['ServerID','VisitPageSum'],axis=1, inplace=True)\n",
    "df.head()"
   ]
  },
  {
   "cell_type": "code",
   "execution_count": 20,
   "id": "06c5efb9-612c-4bfb-8f14-57450eb20694",
   "metadata": {},
   "outputs": [
    {
     "data": {
      "text/html": [
       "<div>\n",
       "<style scoped>\n",
       "    .dataframe tbody tr th:only-of-type {\n",
       "        vertical-align: middle;\n",
       "    }\n",
       "\n",
       "    .dataframe tbody tr th {\n",
       "        vertical-align: top;\n",
       "    }\n",
       "\n",
       "    .dataframe thead th {\n",
       "        text-align: right;\n",
       "    }\n",
       "</style>\n",
       "<table border=\"1\" class=\"dataframe\">\n",
       "  <thead>\n",
       "    <tr style=\"text-align: right;\">\n",
       "      <th></th>\n",
       "      <th>IP Address</th>\n",
       "      <th>LoggedInFlag</th>\n",
       "      <th>VisitPage</th>\n",
       "      <th>Group</th>\n",
       "    </tr>\n",
       "  </thead>\n",
       "  <tbody>\n",
       "    <tr>\n",
       "      <th>0</th>\n",
       "      <td>0.0.160.9</td>\n",
       "      <td>1</td>\n",
       "      <td>0</td>\n",
       "      <td>Control</td>\n",
       "    </tr>\n",
       "    <tr>\n",
       "      <th>1</th>\n",
       "      <td>0.0.163.1</td>\n",
       "      <td>0</td>\n",
       "      <td>0</td>\n",
       "      <td>Control</td>\n",
       "    </tr>\n",
       "    <tr>\n",
       "      <th>2</th>\n",
       "      <td>0.0.178.9</td>\n",
       "      <td>1</td>\n",
       "      <td>0</td>\n",
       "      <td>Control</td>\n",
       "    </tr>\n",
       "    <tr>\n",
       "      <th>3</th>\n",
       "      <td>0.0.228.7</td>\n",
       "      <td>0</td>\n",
       "      <td>0</td>\n",
       "      <td>Control</td>\n",
       "    </tr>\n",
       "    <tr>\n",
       "      <th>4</th>\n",
       "      <td>0.0.46.2</td>\n",
       "      <td>0</td>\n",
       "      <td>0</td>\n",
       "      <td>Control</td>\n",
       "    </tr>\n",
       "    <tr>\n",
       "      <th>...</th>\n",
       "      <td>...</td>\n",
       "      <td>...</td>\n",
       "      <td>...</td>\n",
       "      <td>...</td>\n",
       "    </tr>\n",
       "    <tr>\n",
       "      <th>33179</th>\n",
       "      <td>99.9.3.3</td>\n",
       "      <td>1</td>\n",
       "      <td>0</td>\n",
       "      <td>Control</td>\n",
       "    </tr>\n",
       "    <tr>\n",
       "      <th>33180</th>\n",
       "      <td>99.9.45.1</td>\n",
       "      <td>1</td>\n",
       "      <td>0</td>\n",
       "      <td>Control</td>\n",
       "    </tr>\n",
       "    <tr>\n",
       "      <th>33181</th>\n",
       "      <td>99.9.53.7</td>\n",
       "      <td>1</td>\n",
       "      <td>0</td>\n",
       "      <td>Control</td>\n",
       "    </tr>\n",
       "    <tr>\n",
       "      <th>33182</th>\n",
       "      <td>99.9.65.2</td>\n",
       "      <td>0</td>\n",
       "      <td>0</td>\n",
       "      <td>Control</td>\n",
       "    </tr>\n",
       "    <tr>\n",
       "      <th>33183</th>\n",
       "      <td>99.9.79.6</td>\n",
       "      <td>1</td>\n",
       "      <td>0</td>\n",
       "      <td>Control</td>\n",
       "    </tr>\n",
       "  </tbody>\n",
       "</table>\n",
       "<p>33184 rows × 4 columns</p>\n",
       "</div>"
      ],
      "text/plain": [
       "      IP Address  LoggedInFlag  VisitPage    Group\n",
       "0      0.0.160.9             1          0  Control\n",
       "1      0.0.163.1             0          0  Control\n",
       "2      0.0.178.9             1          0  Control\n",
       "3      0.0.228.7             0          0  Control\n",
       "4       0.0.46.2             0          0  Control\n",
       "...          ...           ...        ...      ...\n",
       "33179   99.9.3.3             1          0  Control\n",
       "33180  99.9.45.1             1          0  Control\n",
       "33181  99.9.53.7             1          0  Control\n",
       "33182  99.9.65.2             0          0  Control\n",
       "33183  99.9.79.6             1          0  Control\n",
       "\n",
       "[33184 rows x 4 columns]"
      ]
     },
     "execution_count": 20,
     "metadata": {},
     "output_type": "execute_result"
    }
   ],
   "source": [
    "df_control = df[df['Group'] == 'Control'].copy()\n",
    "df_control.reset_index(inplace=True, drop = True)\n",
    "df_control"
   ]
  },
  {
   "cell_type": "code",
   "execution_count": 21,
   "id": "61f1c111-303f-4dd1-8aca-ba0cca485f29",
   "metadata": {},
   "outputs": [
    {
     "data": {
      "text/html": [
       "<div>\n",
       "<style scoped>\n",
       "    .dataframe tbody tr th:only-of-type {\n",
       "        vertical-align: middle;\n",
       "    }\n",
       "\n",
       "    .dataframe tbody tr th {\n",
       "        vertical-align: top;\n",
       "    }\n",
       "\n",
       "    .dataframe thead th {\n",
       "        text-align: right;\n",
       "    }\n",
       "</style>\n",
       "<table border=\"1\" class=\"dataframe\">\n",
       "  <thead>\n",
       "    <tr style=\"text-align: right;\">\n",
       "      <th></th>\n",
       "      <th>IP Address</th>\n",
       "      <th>LoggedInFlag</th>\n",
       "      <th>VisitPage</th>\n",
       "      <th>Group</th>\n",
       "    </tr>\n",
       "  </thead>\n",
       "  <tbody>\n",
       "    <tr>\n",
       "      <th>0</th>\n",
       "      <td>0.0.108.2</td>\n",
       "      <td>0</td>\n",
       "      <td>0</td>\n",
       "      <td>Test</td>\n",
       "    </tr>\n",
       "    <tr>\n",
       "      <th>1</th>\n",
       "      <td>0.0.109.6</td>\n",
       "      <td>1</td>\n",
       "      <td>0</td>\n",
       "      <td>Test</td>\n",
       "    </tr>\n",
       "    <tr>\n",
       "      <th>2</th>\n",
       "      <td>0.0.169.1</td>\n",
       "      <td>1</td>\n",
       "      <td>0</td>\n",
       "      <td>Test</td>\n",
       "    </tr>\n",
       "    <tr>\n",
       "      <th>3</th>\n",
       "      <td>0.0.181.9</td>\n",
       "      <td>0</td>\n",
       "      <td>1</td>\n",
       "      <td>Test</td>\n",
       "    </tr>\n",
       "    <tr>\n",
       "      <th>4</th>\n",
       "      <td>0.0.195.5</td>\n",
       "      <td>1</td>\n",
       "      <td>0</td>\n",
       "      <td>Test</td>\n",
       "    </tr>\n",
       "    <tr>\n",
       "      <th>...</th>\n",
       "      <td>...</td>\n",
       "      <td>...</td>\n",
       "      <td>...</td>\n",
       "      <td>...</td>\n",
       "    </tr>\n",
       "    <tr>\n",
       "      <th>33298</th>\n",
       "      <td>99.9.206.2</td>\n",
       "      <td>0</td>\n",
       "      <td>0</td>\n",
       "      <td>Test</td>\n",
       "    </tr>\n",
       "    <tr>\n",
       "      <th>33299</th>\n",
       "      <td>99.9.241.9</td>\n",
       "      <td>1</td>\n",
       "      <td>0</td>\n",
       "      <td>Test</td>\n",
       "    </tr>\n",
       "    <tr>\n",
       "      <th>33300</th>\n",
       "      <td>99.9.5.3</td>\n",
       "      <td>1</td>\n",
       "      <td>0</td>\n",
       "      <td>Test</td>\n",
       "    </tr>\n",
       "    <tr>\n",
       "      <th>33301</th>\n",
       "      <td>99.9.86.3</td>\n",
       "      <td>0</td>\n",
       "      <td>1</td>\n",
       "      <td>Test</td>\n",
       "    </tr>\n",
       "    <tr>\n",
       "      <th>33302</th>\n",
       "      <td>99.9.86.9</td>\n",
       "      <td>0</td>\n",
       "      <td>0</td>\n",
       "      <td>Test</td>\n",
       "    </tr>\n",
       "  </tbody>\n",
       "</table>\n",
       "<p>33303 rows × 4 columns</p>\n",
       "</div>"
      ],
      "text/plain": [
       "       IP Address  LoggedInFlag  VisitPage Group\n",
       "0       0.0.108.2             0          0  Test\n",
       "1       0.0.109.6             1          0  Test\n",
       "2       0.0.169.1             1          0  Test\n",
       "3       0.0.181.9             0          1  Test\n",
       "4       0.0.195.5             1          0  Test\n",
       "...           ...           ...        ...   ...\n",
       "33298  99.9.206.2             0          0  Test\n",
       "33299  99.9.241.9             1          0  Test\n",
       "33300    99.9.5.3             1          0  Test\n",
       "33301   99.9.86.3             0          1  Test\n",
       "33302   99.9.86.9             0          0  Test\n",
       "\n",
       "[33303 rows x 4 columns]"
      ]
     },
     "execution_count": 21,
     "metadata": {},
     "output_type": "execute_result"
    }
   ],
   "source": [
    "df_test = df[df['Group'] == 'Test'].copy()\n",
    "df_test.reset_index(inplace=True, drop = True)\n",
    "df_test"
   ]
  },
  {
   "cell_type": "code",
   "execution_count": 22,
   "id": "756ecb34-f62b-4f54-843d-3d732b52213c",
   "metadata": {},
   "outputs": [
    {
     "data": {
      "text/html": [
       "<div>\n",
       "<style scoped>\n",
       "    .dataframe tbody tr th:only-of-type {\n",
       "        vertical-align: middle;\n",
       "    }\n",
       "\n",
       "    .dataframe tbody tr th {\n",
       "        vertical-align: top;\n",
       "    }\n",
       "\n",
       "    .dataframe thead th {\n",
       "        text-align: right;\n",
       "    }\n",
       "</style>\n",
       "<table border=\"1\" class=\"dataframe\">\n",
       "  <thead>\n",
       "    <tr style=\"text-align: right;\">\n",
       "      <th></th>\n",
       "      <th>count</th>\n",
       "      <th>mean</th>\n",
       "      <th>std</th>\n",
       "      <th>min</th>\n",
       "      <th>25%</th>\n",
       "      <th>50%</th>\n",
       "      <th>75%</th>\n",
       "      <th>max</th>\n",
       "    </tr>\n",
       "  </thead>\n",
       "  <tbody>\n",
       "    <tr>\n",
       "      <th>LoggedInFlag</th>\n",
       "      <td>33184.0</td>\n",
       "      <td>0.509251</td>\n",
       "      <td>0.499922</td>\n",
       "      <td>0.0</td>\n",
       "      <td>0.0</td>\n",
       "      <td>1.0</td>\n",
       "      <td>1.0</td>\n",
       "      <td>1.0</td>\n",
       "    </tr>\n",
       "    <tr>\n",
       "      <th>VisitPage</th>\n",
       "      <td>33184.0</td>\n",
       "      <td>0.091942</td>\n",
       "      <td>0.288948</td>\n",
       "      <td>0.0</td>\n",
       "      <td>0.0</td>\n",
       "      <td>0.0</td>\n",
       "      <td>0.0</td>\n",
       "      <td>1.0</td>\n",
       "    </tr>\n",
       "  </tbody>\n",
       "</table>\n",
       "</div>"
      ],
      "text/plain": [
       "                count      mean       std  min  25%  50%  75%  max\n",
       "LoggedInFlag  33184.0  0.509251  0.499922  0.0  0.0  1.0  1.0  1.0\n",
       "VisitPage     33184.0  0.091942  0.288948  0.0  0.0  0.0  0.0  1.0"
      ]
     },
     "execution_count": 22,
     "metadata": {},
     "output_type": "execute_result"
    }
   ],
   "source": [
    "df_control.describe().T"
   ]
  },
  {
   "cell_type": "code",
   "execution_count": 23,
   "id": "553ba12a-4c0b-4fcb-9184-aa457463660b",
   "metadata": {},
   "outputs": [
    {
     "data": {
      "text/html": [
       "<div>\n",
       "<style scoped>\n",
       "    .dataframe tbody tr th:only-of-type {\n",
       "        vertical-align: middle;\n",
       "    }\n",
       "\n",
       "    .dataframe tbody tr th {\n",
       "        vertical-align: top;\n",
       "    }\n",
       "\n",
       "    .dataframe thead th {\n",
       "        text-align: right;\n",
       "    }\n",
       "</style>\n",
       "<table border=\"1\" class=\"dataframe\">\n",
       "  <thead>\n",
       "    <tr style=\"text-align: right;\">\n",
       "      <th></th>\n",
       "      <th>count</th>\n",
       "      <th>mean</th>\n",
       "      <th>std</th>\n",
       "      <th>min</th>\n",
       "      <th>25%</th>\n",
       "      <th>50%</th>\n",
       "      <th>75%</th>\n",
       "      <th>max</th>\n",
       "    </tr>\n",
       "  </thead>\n",
       "  <tbody>\n",
       "    <tr>\n",
       "      <th>LoggedInFlag</th>\n",
       "      <td>33303.0</td>\n",
       "      <td>0.503258</td>\n",
       "      <td>0.499997</td>\n",
       "      <td>0.0</td>\n",
       "      <td>0.0</td>\n",
       "      <td>1.0</td>\n",
       "      <td>1.0</td>\n",
       "      <td>1.0</td>\n",
       "    </tr>\n",
       "    <tr>\n",
       "      <th>VisitPage</th>\n",
       "      <td>33303.0</td>\n",
       "      <td>0.115515</td>\n",
       "      <td>0.319647</td>\n",
       "      <td>0.0</td>\n",
       "      <td>0.0</td>\n",
       "      <td>0.0</td>\n",
       "      <td>0.0</td>\n",
       "      <td>1.0</td>\n",
       "    </tr>\n",
       "  </tbody>\n",
       "</table>\n",
       "</div>"
      ],
      "text/plain": [
       "                count      mean       std  min  25%  50%  75%  max\n",
       "LoggedInFlag  33303.0  0.503258  0.499997  0.0  0.0  1.0  1.0  1.0\n",
       "VisitPage     33303.0  0.115515  0.319647  0.0  0.0  0.0  0.0  1.0"
      ]
     },
     "execution_count": 23,
     "metadata": {},
     "output_type": "execute_result"
    }
   ],
   "source": [
    "df_test.describe().T"
   ]
  },
  {
   "cell_type": "code",
   "execution_count": 24,
   "id": "4fc23d2a-35e8-4ca6-8f08-6995b51beb1d",
   "metadata": {},
   "outputs": [
    {
     "name": "stdout",
     "output_type": "stream",
     "text": [
      "Total visits for control group:  33184\n",
      "Visit Page target = 1 :  3051\n"
     ]
    }
   ],
   "source": [
    "#In the control data set,let's calculate the ratio of those \n",
    "#who enter the page we want, compared to all those who enter the site\n",
    "\n",
    "control_sum_visit = df_control['VisitPage'].count()\n",
    "print(\"Total visits for control group: \", control_sum_visit)\n",
    "control_visit_1 = df_control[df_control['VisitPage'] ==1]['VisitPage'].count()\n",
    "print(\"Visit Page target = 1 : \", control_visit_1)"
   ]
  },
  {
   "cell_type": "code",
   "execution_count": 25,
   "id": "a3f14835-9b86-48a0-b962-dcbab599288b",
   "metadata": {},
   "outputs": [
    {
     "data": {
      "text/plain": [
       "0.0919"
      ]
     },
     "execution_count": 25,
     "metadata": {},
     "output_type": "execute_result"
    }
   ],
   "source": [
    "control_ratio_visit = round(control_visit_1/control_sum_visit,4)\n",
    "control_ratio_visit"
   ]
  },
  {
   "cell_type": "code",
   "execution_count": 27,
   "id": "3ffaf089-6185-4425-85a6-631d2d0f58f6",
   "metadata": {},
   "outputs": [
    {
     "name": "stdout",
     "output_type": "stream",
     "text": [
      "Sum visit for test group:  33303\n",
      "Visit Page target = 1 :  3847\n"
     ]
    }
   ],
   "source": [
    "#The same ratio within the Test group\n",
    "\n",
    "test_sum_visit = df_test['VisitPage'].count()\n",
    "print(\"Sum visit for test group: \", test_sum_visit)\n",
    "test_visit_1 = df_test[df_test['VisitPage'] ==1]['VisitPage'].count()\n",
    "print(\"Visit Page target = 1 : \", test_visit_1)"
   ]
  },
  {
   "cell_type": "code",
   "execution_count": 28,
   "id": "dec656b8-a81e-4f14-b14f-37818548ff1d",
   "metadata": {},
   "outputs": [
    {
     "data": {
      "text/plain": [
       "0.1155"
      ]
     },
     "execution_count": 28,
     "metadata": {},
     "output_type": "execute_result"
    }
   ],
   "source": [
    "test_ratio_visit = round(test_visit_1/test_sum_visit,4)\n",
    "test_ratio_visit"
   ]
  },
  {
   "cell_type": "code",
   "execution_count": null,
   "id": "9d6aeb79-6fec-4293-b5c4-fa00af3bf7ef",
   "metadata": {},
   "outputs": [],
   "source": [
    "#It seems that the new features applied to the test group is getting more clicks\n",
    "#To prove it statistically we will run A/B testing"
   ]
  },
  {
   "cell_type": "code",
   "execution_count": 29,
   "id": "f3b97869-22e1-4fc9-81e0-532b3da82812",
   "metadata": {},
   "outputs": [],
   "source": [
    "#As we working with binary data it can not follow the normal distrubition rule\n",
    "#However let us check it by shapiro test\n",
    "\n",
    "#In this test If the p-value is less than the significance level, we reject the null hypothesis  \n",
    "#and conclude that the samples does not come from a normal distribution\n",
    "\n",
    "#H0 : The samples come from a normal distribution\n",
    "#H1 : The samples does not come from a normal distribution"
   ]
  },
  {
   "cell_type": "code",
   "execution_count": 32,
   "id": "24467d33-3d58-49e9-abeb-f71dba9c503a",
   "metadata": {},
   "outputs": [
    {
     "name": "stdout",
     "output_type": "stream",
     "text": [
      "Test Stat = 0.3260, p-value = 0.0000\n"
     ]
    }
   ],
   "source": [
    "test_stat, pvalue = shapiro(df_control[\"VisitPage\"])\n",
    "print('Test Stat = %.4f, p-value = %.4f' % (test_stat, pvalue))"
   ]
  },
  {
   "cell_type": "code",
   "execution_count": 33,
   "id": "d6be8c0b-d9d5-49ee-ab42-2e191ea1a6dd",
   "metadata": {},
   "outputs": [
    {
     "name": "stdout",
     "output_type": "stream",
     "text": [
      "Test Stat = 0.3711, p-value = 0.0000\n"
     ]
    }
   ],
   "source": [
    "test_stat, pvalue = shapiro(df_test[\"VisitPage\"])\n",
    "print('Test Stat = %.4f, p-value = %.4f' % (test_stat, pvalue))"
   ]
  },
  {
   "cell_type": "code",
   "execution_count": null,
   "id": "f357379d-eec5-4242-ae6a-cd1772d26d94",
   "metadata": {},
   "outputs": [],
   "source": [
    "#As the assumption of normality is not provided, we will use the Mann-Whitney U test \n",
    "\n",
    "#H0 the two populations are equal\n",
    "#H1 the two populations are not equal"
   ]
  },
  {
   "cell_type": "code",
   "execution_count": 34,
   "id": "c99016d4-2eb0-45a3-8cb8-80cfec576c77",
   "metadata": {},
   "outputs": [
    {
     "name": "stdout",
     "output_type": "stream",
     "text": [
      "Test Stat = 539537678.50, p-value = 0.00\n"
     ]
    }
   ],
   "source": [
    "test_stat, pvalue = mannwhitneyu(df_control[\"VisitPage\"],\n",
    "                                 df_test[\"VisitPage\"])\n",
    "print('Test Stat = %.2f, p-value = %.2f' % (test_stat, pvalue))"
   ]
  },
  {
   "cell_type": "code",
   "execution_count": null,
   "id": "38c200f2-961c-4525-902d-b4b4805c942b",
   "metadata": {},
   "outputs": [],
   "source": [
    "#As p-value is certainly less than significance level, we reject the null hypothesis  \n",
    "#and conclude that there is a significant difference between these two groups"
   ]
  },
  {
   "cell_type": "code",
   "execution_count": 35,
   "id": "23b6bae5-87c6-4df6-a6e1-b789072d7587",
   "metadata": {},
   "outputs": [],
   "source": [
    "group_count = df.groupby(['Group', 'VisitPage'])['Group'].count().reset_index(name='Count')\n",
    "groupped = pd.crosstab(group_count['Group'], group_count['VisitPage'], values=group_count['Count'], aggfunc=np.sum, margins=True)"
   ]
  },
  {
   "cell_type": "code",
   "execution_count": 36,
   "id": "c81f0fec-14f8-46e4-b885-35e69d5d14d3",
   "metadata": {},
   "outputs": [
    {
     "data": {
      "text/html": [
       "<div>\n",
       "<style scoped>\n",
       "    .dataframe tbody tr th:only-of-type {\n",
       "        vertical-align: middle;\n",
       "    }\n",
       "\n",
       "    .dataframe tbody tr th {\n",
       "        vertical-align: top;\n",
       "    }\n",
       "\n",
       "    .dataframe thead th {\n",
       "        text-align: right;\n",
       "    }\n",
       "</style>\n",
       "<table border=\"1\" class=\"dataframe\">\n",
       "  <thead>\n",
       "    <tr style=\"text-align: right;\">\n",
       "      <th>VisitPage</th>\n",
       "      <th>0</th>\n",
       "      <th>1</th>\n",
       "      <th>All</th>\n",
       "    </tr>\n",
       "    <tr>\n",
       "      <th>Group</th>\n",
       "      <th></th>\n",
       "      <th></th>\n",
       "      <th></th>\n",
       "    </tr>\n",
       "  </thead>\n",
       "  <tbody>\n",
       "    <tr>\n",
       "      <th>Control</th>\n",
       "      <td>90.805810</td>\n",
       "      <td>9.194190</td>\n",
       "      <td>100.0</td>\n",
       "    </tr>\n",
       "    <tr>\n",
       "      <th>Test</th>\n",
       "      <td>88.448488</td>\n",
       "      <td>11.551512</td>\n",
       "      <td>100.0</td>\n",
       "    </tr>\n",
       "    <tr>\n",
       "      <th>All</th>\n",
       "      <td>89.625039</td>\n",
       "      <td>10.374961</td>\n",
       "      <td>100.0</td>\n",
       "    </tr>\n",
       "  </tbody>\n",
       "</table>\n",
       "</div>"
      ],
      "text/plain": [
       "VisitPage          0          1    All\n",
       "Group                                 \n",
       "Control    90.805810   9.194190  100.0\n",
       "Test       88.448488  11.551512  100.0\n",
       "All        89.625039  10.374961  100.0"
      ]
     },
     "execution_count": 36,
     "metadata": {},
     "output_type": "execute_result"
    }
   ],
   "source": [
    "#in % values\n",
    "100*groupped.div(groupped['All'], axis=0)"
   ]
  },
  {
   "cell_type": "code",
   "execution_count": null,
   "id": "8b79be51-34c9-47fa-b6ae-c4d7e78213af",
   "metadata": {},
   "outputs": [],
   "source": [
    "#The rate of clicking on the page was 9.22% in the control group, while this rate increased to 11.55% in the test group\n",
    "#This increase is not accidental, and has been proven statistically"
   ]
  }
 ],
 "metadata": {
  "kernelspec": {
   "display_name": "Python 3 (ipykernel)",
   "language": "python",
   "name": "python3"
  },
  "language_info": {
   "codemirror_mode": {
    "name": "ipython",
    "version": 3
   },
   "file_extension": ".py",
   "mimetype": "text/x-python",
   "name": "python",
   "nbconvert_exporter": "python",
   "pygments_lexer": "ipython3",
   "version": "3.9.13"
  }
 },
 "nbformat": 4,
 "nbformat_minor": 5
}
